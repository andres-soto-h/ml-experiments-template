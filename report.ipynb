{
 "cells": [
  {
   "cell_type": "markdown",
   "id": "equal-wrapping",
   "metadata": {},
   "source": [
    "# Report\n",
    "\n",
    "In this notebook we report progress on the project of house price prediction."
   ]
  },
  {
   "cell_type": "code",
   "execution_count": 15,
   "id": "continent-martial",
   "metadata": {},
   "outputs": [],
   "source": [
    "import os\n",
    "from functools import partial"
   ]
  },
  {
   "cell_type": "code",
   "execution_count": 5,
   "id": "individual-framework",
   "metadata": {},
   "outputs": [],
   "source": [
    "import pandas as pd"
   ]
  },
  {
   "cell_type": "code",
   "execution_count": 2,
   "id": "tight-encyclopedia",
   "metadata": {},
   "outputs": [],
   "source": [
    "import app\n",
    "import data\n",
    "import model\n",
    "import metrics"
   ]
  },
  {
   "cell_type": "code",
   "execution_count": 14,
   "id": "preceding-highland",
   "metadata": {},
   "outputs": [],
   "source": [
    "models_dir = \"models\""
   ]
  },
  {
   "cell_type": "code",
   "execution_count": 8,
   "id": "computational-pride",
   "metadata": {},
   "outputs": [],
   "source": [
    "dataset_path = \"dataset.csv\""
   ]
  },
  {
   "cell_type": "code",
   "execution_count": 13,
   "id": "warming-recorder",
   "metadata": {},
   "outputs": [],
   "source": [
    "dataset = data.get_dataset(\n",
    "    partial(pd.read_csv, filepath_or_buffer=dataset_path),\n",
    "    splits=(\"train\", \"test\")\n",
    ")"
   ]
  },
  {
   "cell_type": "markdown",
   "id": "suited-bennett",
   "metadata": {},
   "source": [
    "**If you need to visualize anything from your training data, do it here**"
   ]
  },
  {
   "cell_type": "code",
   "execution_count": null,
   "id": "opened-repeat",
   "metadata": {},
   "outputs": [],
   "source": []
  },
  {
   "cell_type": "markdown",
   "id": "express-northern",
   "metadata": {},
   "source": [
    "## Baseline\n",
    "\n",
    "Before doing any complex Machine Learning model, let's try to solve the problem by having an initial educated guess. "
   ]
  },
  {
   "cell_type": "code",
   "execution_count": null,
   "id": "least-relations",
   "metadata": {},
   "outputs": [],
   "source": [
    "model_path = \n",
    "model =\n",
    "train_predictions = \n",
    "test_predictions = \n",
    "train_error =\n",
    "test_error = "
   ]
  },
  {
   "cell_type": "code",
   "execution_count": null,
   "id": "desirable-matthew",
   "metadata": {},
   "outputs": [],
   "source": []
  },
  {
   "cell_type": "markdown",
   "id": "monetary-aerospace",
   "metadata": {},
   "source": [
    "## Linear Regression Model \n",
    "\n",
    "We want to try easy things first, so know lets see how a linear regression model does."
   ]
  },
  {
   "cell_type": "code",
   "execution_count": null,
   "id": "careful-industry",
   "metadata": {},
   "outputs": [],
   "source": [
    "model_path = \n",
    "model =\n",
    "train_predictions = \n",
    "test_predictions = \n",
    "train_error =\n",
    "test_error = "
   ]
  },
  {
   "cell_type": "code",
   "execution_count": null,
   "id": "single-being",
   "metadata": {},
   "outputs": [],
   "source": []
  },
  {
   "cell_type": "markdown",
   "id": "demanding-prefix",
   "metadata": {},
   "source": [
    "## Linear regression with Feature Engineering\n",
    "\n",
    "Probably the previous model is not good enough, let's see how is the performance of a model using some produced features.  "
   ]
  },
  {
   "cell_type": "code",
   "execution_count": null,
   "id": "violent-seating",
   "metadata": {},
   "outputs": [],
   "source": []
  },
  {
   "cell_type": "code",
   "execution_count": null,
   "id": "still-rehabilitation",
   "metadata": {},
   "outputs": [],
   "source": []
  },
  {
   "cell_type": "markdown",
   "id": "rocky-moment",
   "metadata": {},
   "source": [
    "## Regularized Linear Regression\n",
    "\n",
    "Let's assume you are overfitting. Load the results of a linear regression model with regularized loss"
   ]
  },
  {
   "cell_type": "code",
   "execution_count": null,
   "id": "dutch-style",
   "metadata": {},
   "outputs": [],
   "source": [
    "model_path = \n",
    "model =\n",
    "train_predictions = \n",
    "test_predictions = \n",
    "train_error =\n",
    "test_error = "
   ]
  },
  {
   "cell_type": "code",
   "execution_count": null,
   "id": "excessive-surgery",
   "metadata": {},
   "outputs": [],
   "source": []
  },
  {
   "cell_type": "markdown",
   "id": "technical-meditation",
   "metadata": {},
   "source": [
    "## Decision Tree\n",
    "\n",
    "Decision trees ofer great complexity, they can fit even a noisy dataset almost perfectly. Let's see how it behaves on the task at hand. \n",
    "\n",
    "**Overfiting case**\n",
    "Let's see the results for a model that has greatly overfit the data, this wouldn't be an ideal model, but at least it could tell that our model is powerful enough for the task at hand"
   ]
  },
  {
   "cell_type": "code",
   "execution_count": null,
   "id": "short-college",
   "metadata": {},
   "outputs": [],
   "source": [
    "model_path = \n",
    "model =\n",
    "train_predictions = \n",
    "test_predictions = \n",
    "train_error =\n",
    "test_error = "
   ]
  },
  {
   "cell_type": "code",
   "execution_count": null,
   "id": "parliamentary-breast",
   "metadata": {},
   "outputs": [],
   "source": []
  },
  {
   "cell_type": "markdown",
   "id": "cheap-alpha",
   "metadata": {},
   "source": [
    "**Using best hyper params** Now let's see thow much a simple decision tree can give us"
   ]
  },
  {
   "cell_type": "code",
   "execution_count": null,
   "id": "romantic-ceiling",
   "metadata": {},
   "outputs": [],
   "source": [
    "model_path = \n",
    "model =\n",
    "train_predictions = \n",
    "test_predictions = \n",
    "train_error =\n",
    "test_error = "
   ]
  },
  {
   "cell_type": "code",
   "execution_count": null,
   "id": "stunning-headline",
   "metadata": {},
   "outputs": [],
   "source": []
  },
  {
   "cell_type": "markdown",
   "id": "behind-bible",
   "metadata": {},
   "source": [
    "## Random Forest\n",
    "\n",
    "Now it is time to use a model that can properly help us to regularize the previous one."
   ]
  },
  {
   "cell_type": "code",
   "execution_count": null,
   "id": "valued-collective",
   "metadata": {},
   "outputs": [],
   "source": [
    "model_path = \n",
    "model =\n",
    "train_predictions = \n",
    "test_predictions = \n",
    "train_error =\n",
    "test_error = "
   ]
  },
  {
   "cell_type": "code",
   "execution_count": null,
   "id": "surface-statistics",
   "metadata": {},
   "outputs": [],
   "source": []
  },
  {
   "cell_type": "code",
   "execution_count": null,
   "id": "drawn-center",
   "metadata": {},
   "outputs": [],
   "source": []
  },
  {
   "cell_type": "code",
   "execution_count": null,
   "id": "molecular-genome",
   "metadata": {},
   "outputs": [],
   "source": []
  }
 ],
 "metadata": {
  "kernelspec": {
   "display_name": "Python 3",
   "language": "python",
   "name": "python3"
  },
  "language_info": {
   "codemirror_mode": {
    "name": "ipython",
    "version": 3
   },
   "file_extension": ".py",
   "mimetype": "text/x-python",
   "name": "python",
   "nbconvert_exporter": "python",
   "pygments_lexer": "ipython3",
   "version": "3.7.9"
  }
 },
 "nbformat": 4,
 "nbformat_minor": 5
}
