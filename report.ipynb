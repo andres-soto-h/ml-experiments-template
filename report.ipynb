{
 "cells": [
  {
   "cell_type": "markdown",
   "id": "allied-causing",
   "metadata": {},
   "source": [
    "# Report\n",
    "\n",
    "In this notebook we report progress on the project of house price prediction."
   ]
  },
  {
   "cell_type": "code",
   "execution_count": 1,
   "id": "announced-dakota",
   "metadata": {},
   "outputs": [],
   "source": [
    "import os\n",
    "from functools import partial"
   ]
  },
  {
   "cell_type": "code",
   "execution_count": 52,
   "id": "dependent-bidding",
   "metadata": {},
   "outputs": [],
   "source": [
    "import joblib\n",
    "import pandas as pd"
   ]
  },
  {
   "cell_type": "code",
   "execution_count": 12,
   "id": "amino-craps",
   "metadata": {},
   "outputs": [],
   "source": [
    "import app\n",
    "import data\n",
    "import model\n",
    "import metrics"
   ]
  },
  {
   "cell_type": "code",
   "execution_count": 4,
   "id": "charitable-shore",
   "metadata": {},
   "outputs": [],
   "source": [
    "%load_ext autoreload\n",
    "%autoreload 2"
   ]
  },
  {
   "cell_type": "code",
   "execution_count": 5,
   "id": "exact-importance",
   "metadata": {},
   "outputs": [],
   "source": [
    "models_dir = \"models\""
   ]
  },
  {
   "cell_type": "code",
   "execution_count": 6,
   "id": "incident-microphone",
   "metadata": {},
   "outputs": [],
   "source": [
    "dataset_path = \"dataset.csv\""
   ]
  },
  {
   "cell_type": "code",
   "execution_count": 7,
   "id": "dying-fourth",
   "metadata": {},
   "outputs": [],
   "source": [
    "dataset = data.get_dataset(\n",
    "    partial(pd.read_csv, filepath_or_buffer=dataset_path),\n",
    "    splits=(\"train\", \"test\")\n",
    ")"
   ]
  },
  {
   "cell_type": "markdown",
   "id": "median-tobago",
   "metadata": {},
   "source": [
    "**If you need to visualize anything from your training data, do it here**"
   ]
  },
  {
   "cell_type": "code",
   "execution_count": 21,
   "id": "painful-recommendation",
   "metadata": {},
   "outputs": [],
   "source": []
  },
  {
   "cell_type": "markdown",
   "id": "indoor-gibraltar",
   "metadata": {},
   "source": [
    "## Baseline\n",
    "\n",
    "Before doing any complex Machine Learning model, let's try to solve the problem by having an initial educated guess. "
   ]
  },
  {
   "cell_type": "code",
   "execution_count": 98,
   "id": "brave-recycling",
   "metadata": {},
   "outputs": [],
   "source": [
    "model_path = os.path.join(\"models\", \"2021-05-29 17:22:00+00:00\", \"model.joblib\")\n",
    "reg = joblib.load(model_path)"
   ]
  },
  {
   "cell_type": "code",
   "execution_count": 100,
   "id": "subjective-nashville",
   "metadata": {},
   "outputs": [],
   "source": [
    "train_predictions = reg.predict(dataset[\"train\"][0])"
   ]
  },
  {
   "cell_type": "code",
   "execution_count": 103,
   "id": "emotional-water",
   "metadata": {},
   "outputs": [],
   "source": [
    "test_predictions = reg.predict(dataset[\"test\"][0])"
   ]
  },
  {
   "cell_type": "code",
   "execution_count": 105,
   "id": "satisfactory-struggle",
   "metadata": {},
   "outputs": [
    {
     "name": "stdout",
     "output_type": "stream",
     "text": [
      "Train error: 33609.9990756996, Test error: 34799.09487677742\n"
     ]
    }
   ],
   "source": [
    "train_error = metrics.custom_error(dataset[\"train\"][1], train_predictions)\n",
    "test_error = metrics.custom_error(dataset[\"test\"][1], test_predictions)\n",
    "print(f\"Train error: {train_error}, Test error: {test_error}\")"
   ]
  },
  {
   "cell_type": "markdown",
   "id": "industrial-passion",
   "metadata": {},
   "source": [
    "## Linear Regression Model \n",
    "\n",
    "We want to try easy things first, so know lets see how a linear regression model does."
   ]
  },
  {
   "cell_type": "code",
   "execution_count": null,
   "id": "western-macintosh",
   "metadata": {},
   "outputs": [],
   "source": [
    "model_path = \n",
    "model =\n",
    "train_predictions = \n",
    "test_predictions = \n",
    "train_error =\n",
    "test_error = "
   ]
  },
  {
   "cell_type": "code",
   "execution_count": null,
   "id": "alleged-drive",
   "metadata": {},
   "outputs": [],
   "source": []
  },
  {
   "cell_type": "markdown",
   "id": "comic-recorder",
   "metadata": {},
   "source": [
    "## Linear regression with Feature Engineering\n",
    "\n",
    "Probably the previous model is not good enough, let's see how is the performance of a model using some produced features.  "
   ]
  },
  {
   "cell_type": "code",
   "execution_count": null,
   "id": "sorted-tracker",
   "metadata": {},
   "outputs": [],
   "source": []
  },
  {
   "cell_type": "code",
   "execution_count": null,
   "id": "desperate-coast",
   "metadata": {},
   "outputs": [],
   "source": []
  },
  {
   "cell_type": "markdown",
   "id": "adequate-collective",
   "metadata": {},
   "source": [
    "## Regularized Linear Regression\n",
    "\n",
    "Let's assume you are overfitting. Load the results of a linear regression model with regularized loss"
   ]
  },
  {
   "cell_type": "code",
   "execution_count": null,
   "id": "governing-tobago",
   "metadata": {},
   "outputs": [],
   "source": [
    "model_path = \n",
    "model =\n",
    "train_predictions = \n",
    "test_predictions = \n",
    "train_error =\n",
    "test_error = "
   ]
  },
  {
   "cell_type": "code",
   "execution_count": null,
   "id": "ancient-invitation",
   "metadata": {},
   "outputs": [],
   "source": []
  },
  {
   "cell_type": "markdown",
   "id": "intermediate-stevens",
   "metadata": {},
   "source": [
    "## Decision Tree\n",
    "\n",
    "Decision trees ofer great complexity, they can fit even a noisy dataset almost perfectly. Let's see how it behaves on the task at hand. \n",
    "\n",
    "**Overfiting case**\n",
    "Let's see the results for a model that has greatly overfit the data, this wouldn't be an ideal model, but at least it could tell that our model is powerful enough for the task at hand"
   ]
  },
  {
   "cell_type": "code",
   "execution_count": null,
   "id": "exempt-sensitivity",
   "metadata": {},
   "outputs": [],
   "source": [
    "model_path = \n",
    "model =\n",
    "train_predictions = \n",
    "test_predictions = \n",
    "train_error =\n",
    "test_error = "
   ]
  },
  {
   "cell_type": "code",
   "execution_count": null,
   "id": "stupid-warrior",
   "metadata": {},
   "outputs": [],
   "source": []
  },
  {
   "cell_type": "markdown",
   "id": "freelance-trust",
   "metadata": {},
   "source": [
    "**Using best hyper params** Now let's see thow much a simple decision tree can give us"
   ]
  },
  {
   "cell_type": "code",
   "execution_count": null,
   "id": "whole-phenomenon",
   "metadata": {},
   "outputs": [],
   "source": [
    "model_path = \n",
    "model =\n",
    "train_predictions = \n",
    "test_predictions = \n",
    "train_error =\n",
    "test_error = "
   ]
  },
  {
   "cell_type": "code",
   "execution_count": null,
   "id": "hollow-seeker",
   "metadata": {},
   "outputs": [],
   "source": []
  },
  {
   "cell_type": "markdown",
   "id": "sorted-background",
   "metadata": {},
   "source": [
    "## Random Forest\n",
    "\n",
    "Now it is time to use a model that can properly help us to regularize the previous one."
   ]
  },
  {
   "cell_type": "code",
   "execution_count": null,
   "id": "confused-smart",
   "metadata": {},
   "outputs": [],
   "source": [
    "model_path = \n",
    "model =\n",
    "train_predictions = \n",
    "test_predictions = \n",
    "train_error =\n",
    "test_error = "
   ]
  },
  {
   "cell_type": "code",
   "execution_count": null,
   "id": "other-packing",
   "metadata": {},
   "outputs": [],
   "source": []
  },
  {
   "cell_type": "code",
   "execution_count": null,
   "id": "prerequisite-discipline",
   "metadata": {},
   "outputs": [],
   "source": []
  },
  {
   "cell_type": "code",
   "execution_count": null,
   "id": "anonymous-weapon",
   "metadata": {},
   "outputs": [],
   "source": []
  }
 ],
 "metadata": {
  "kernelspec": {
   "display_name": "Python 3",
   "language": "python",
   "name": "python3"
  },
  "language_info": {
   "codemirror_mode": {
    "name": "ipython",
    "version": 3
   },
   "file_extension": ".py",
   "mimetype": "text/x-python",
   "name": "python",
   "nbconvert_exporter": "python",
   "pygments_lexer": "ipython3",
   "version": "3.7.9"
  }
 },
 "nbformat": 4,
 "nbformat_minor": 5
}
